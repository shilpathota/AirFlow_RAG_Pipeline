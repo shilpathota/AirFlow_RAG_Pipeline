{
  "nbformat": 4,
  "nbformat_minor": 0,
  "metadata": {
    "colab": {
      "provenance": []
    },
    "kernelspec": {
      "name": "python3",
      "display_name": "Python 3"
    },
    "language_info": {
      "name": "python"
    }
  },
  "cells": [
    {
      "cell_type": "code",
      "source": [
        "!pip install weaviate-client==4.14.1\n",
        "!pip install fastembed==0.6.1\n",
        "!pip install ipython"
      ],
      "metadata": {
        "colab": {
          "base_uri": "https://localhost:8080/"
        },
        "id": "998G6uR5YAOh",
        "outputId": "e9b3dfd5-b89e-4350-cfd9-9cb144d291c1"
      },
      "execution_count": 2,
      "outputs": [
        {
          "output_type": "stream",
          "name": "stdout",
          "text": [
            "Requirement already satisfied: weaviate-client==4.14.1 in /usr/local/lib/python3.11/dist-packages (4.14.1)\n",
            "Requirement already satisfied: httpx<0.29.0,>=0.26.0 in /usr/local/lib/python3.11/dist-packages (from weaviate-client==4.14.1) (0.28.1)\n",
            "Requirement already satisfied: validators==0.34.0 in /usr/local/lib/python3.11/dist-packages (from weaviate-client==4.14.1) (0.34.0)\n",
            "Requirement already satisfied: authlib<1.3.2,>=1.2.1 in /usr/local/lib/python3.11/dist-packages (from weaviate-client==4.14.1) (1.3.1)\n",
            "Requirement already satisfied: pydantic<3.0.0,>=2.8.0 in /usr/local/lib/python3.11/dist-packages (from weaviate-client==4.14.1) (2.11.7)\n",
            "Requirement already satisfied: grpcio<2.0.0,>=1.66.2 in /usr/local/lib/python3.11/dist-packages (from weaviate-client==4.14.1) (1.73.1)\n",
            "Requirement already satisfied: grpcio-tools<2.0.0,>=1.66.2 in /usr/local/lib/python3.11/dist-packages (from weaviate-client==4.14.1) (1.73.1)\n",
            "Requirement already satisfied: grpcio-health-checking<2.0.0,>=1.66.2 in /usr/local/lib/python3.11/dist-packages (from weaviate-client==4.14.1) (1.73.1)\n",
            "Requirement already satisfied: deprecation<3.0.0,>=2.1.0 in /usr/local/lib/python3.11/dist-packages (from weaviate-client==4.14.1) (2.1.0)\n",
            "Requirement already satisfied: cryptography in /usr/local/lib/python3.11/dist-packages (from authlib<1.3.2,>=1.2.1->weaviate-client==4.14.1) (43.0.3)\n",
            "Requirement already satisfied: packaging in /usr/local/lib/python3.11/dist-packages (from deprecation<3.0.0,>=2.1.0->weaviate-client==4.14.1) (24.2)\n",
            "Requirement already satisfied: protobuf<7.0.0,>=6.30.0 in /usr/local/lib/python3.11/dist-packages (from grpcio-health-checking<2.0.0,>=1.66.2->weaviate-client==4.14.1) (6.31.1)\n",
            "Requirement already satisfied: setuptools in /usr/local/lib/python3.11/dist-packages (from grpcio-tools<2.0.0,>=1.66.2->weaviate-client==4.14.1) (75.2.0)\n",
            "Requirement already satisfied: anyio in /usr/local/lib/python3.11/dist-packages (from httpx<0.29.0,>=0.26.0->weaviate-client==4.14.1) (4.9.0)\n",
            "Requirement already satisfied: certifi in /usr/local/lib/python3.11/dist-packages (from httpx<0.29.0,>=0.26.0->weaviate-client==4.14.1) (2025.6.15)\n",
            "Requirement already satisfied: httpcore==1.* in /usr/local/lib/python3.11/dist-packages (from httpx<0.29.0,>=0.26.0->weaviate-client==4.14.1) (1.0.9)\n",
            "Requirement already satisfied: idna in /usr/local/lib/python3.11/dist-packages (from httpx<0.29.0,>=0.26.0->weaviate-client==4.14.1) (3.10)\n",
            "Requirement already satisfied: h11>=0.16 in /usr/local/lib/python3.11/dist-packages (from httpcore==1.*->httpx<0.29.0,>=0.26.0->weaviate-client==4.14.1) (0.16.0)\n",
            "Requirement already satisfied: annotated-types>=0.6.0 in /usr/local/lib/python3.11/dist-packages (from pydantic<3.0.0,>=2.8.0->weaviate-client==4.14.1) (0.7.0)\n",
            "Requirement already satisfied: pydantic-core==2.33.2 in /usr/local/lib/python3.11/dist-packages (from pydantic<3.0.0,>=2.8.0->weaviate-client==4.14.1) (2.33.2)\n",
            "Requirement already satisfied: typing-extensions>=4.12.2 in /usr/local/lib/python3.11/dist-packages (from pydantic<3.0.0,>=2.8.0->weaviate-client==4.14.1) (4.14.0)\n",
            "Requirement already satisfied: typing-inspection>=0.4.0 in /usr/local/lib/python3.11/dist-packages (from pydantic<3.0.0,>=2.8.0->weaviate-client==4.14.1) (0.4.1)\n",
            "Requirement already satisfied: sniffio>=1.1 in /usr/local/lib/python3.11/dist-packages (from anyio->httpx<0.29.0,>=0.26.0->weaviate-client==4.14.1) (1.3.1)\n",
            "Requirement already satisfied: cffi>=1.12 in /usr/local/lib/python3.11/dist-packages (from cryptography->authlib<1.3.2,>=1.2.1->weaviate-client==4.14.1) (1.17.1)\n",
            "Requirement already satisfied: pycparser in /usr/local/lib/python3.11/dist-packages (from cffi>=1.12->cryptography->authlib<1.3.2,>=1.2.1->weaviate-client==4.14.1) (2.22)\n",
            "Requirement already satisfied: fastembed==0.6.1 in /usr/local/lib/python3.11/dist-packages (0.6.1)\n",
            "Requirement already satisfied: huggingface-hub<1.0,>=0.20 in /usr/local/lib/python3.11/dist-packages (from fastembed==0.6.1) (0.33.0)\n",
            "Requirement already satisfied: loguru<0.8.0,>=0.7.2 in /usr/local/lib/python3.11/dist-packages (from fastembed==0.6.1) (0.7.3)\n",
            "Requirement already satisfied: mmh3<6.0.0,>=4.1.0 in /usr/local/lib/python3.11/dist-packages (from fastembed==0.6.1) (5.1.0)\n",
            "Requirement already satisfied: numpy>=1.21 in /usr/local/lib/python3.11/dist-packages (from fastembed==0.6.1) (2.0.2)\n",
            "Requirement already satisfied: onnxruntime!=1.20.0,>=1.17.0 in /usr/local/lib/python3.11/dist-packages (from fastembed==0.6.1) (1.22.0)\n",
            "Requirement already satisfied: pillow<12.0.0,>=10.3.0 in /usr/local/lib/python3.11/dist-packages (from fastembed==0.6.1) (11.2.1)\n",
            "Requirement already satisfied: py-rust-stemmers<0.2.0,>=0.1.0 in /usr/local/lib/python3.11/dist-packages (from fastembed==0.6.1) (0.1.5)\n",
            "Requirement already satisfied: requests<3.0,>=2.31 in /usr/local/lib/python3.11/dist-packages (from fastembed==0.6.1) (2.32.3)\n",
            "Requirement already satisfied: tokenizers<1.0,>=0.15 in /usr/local/lib/python3.11/dist-packages (from fastembed==0.6.1) (0.21.2)\n",
            "Requirement already satisfied: tqdm<5.0,>=4.66 in /usr/local/lib/python3.11/dist-packages (from fastembed==0.6.1) (4.67.1)\n",
            "Requirement already satisfied: filelock in /usr/local/lib/python3.11/dist-packages (from huggingface-hub<1.0,>=0.20->fastembed==0.6.1) (3.18.0)\n",
            "Requirement already satisfied: fsspec>=2023.5.0 in /usr/local/lib/python3.11/dist-packages (from huggingface-hub<1.0,>=0.20->fastembed==0.6.1) (2025.3.2)\n",
            "Requirement already satisfied: packaging>=20.9 in /usr/local/lib/python3.11/dist-packages (from huggingface-hub<1.0,>=0.20->fastembed==0.6.1) (24.2)\n",
            "Requirement already satisfied: pyyaml>=5.1 in /usr/local/lib/python3.11/dist-packages (from huggingface-hub<1.0,>=0.20->fastembed==0.6.1) (6.0.2)\n",
            "Requirement already satisfied: typing-extensions>=3.7.4.3 in /usr/local/lib/python3.11/dist-packages (from huggingface-hub<1.0,>=0.20->fastembed==0.6.1) (4.14.0)\n",
            "Requirement already satisfied: hf-xet<2.0.0,>=1.1.2 in /usr/local/lib/python3.11/dist-packages (from huggingface-hub<1.0,>=0.20->fastembed==0.6.1) (1.1.5)\n",
            "Requirement already satisfied: coloredlogs in /usr/local/lib/python3.11/dist-packages (from onnxruntime!=1.20.0,>=1.17.0->fastembed==0.6.1) (15.0.1)\n",
            "Requirement already satisfied: flatbuffers in /usr/local/lib/python3.11/dist-packages (from onnxruntime!=1.20.0,>=1.17.0->fastembed==0.6.1) (25.2.10)\n",
            "Requirement already satisfied: protobuf in /usr/local/lib/python3.11/dist-packages (from onnxruntime!=1.20.0,>=1.17.0->fastembed==0.6.1) (6.31.1)\n",
            "Requirement already satisfied: sympy in /usr/local/lib/python3.11/dist-packages (from onnxruntime!=1.20.0,>=1.17.0->fastembed==0.6.1) (1.13.1)\n",
            "Requirement already satisfied: charset-normalizer<4,>=2 in /usr/local/lib/python3.11/dist-packages (from requests<3.0,>=2.31->fastembed==0.6.1) (3.4.2)\n",
            "Requirement already satisfied: idna<4,>=2.5 in /usr/local/lib/python3.11/dist-packages (from requests<3.0,>=2.31->fastembed==0.6.1) (3.10)\n",
            "Requirement already satisfied: urllib3<3,>=1.21.1 in /usr/local/lib/python3.11/dist-packages (from requests<3.0,>=2.31->fastembed==0.6.1) (2.4.0)\n",
            "Requirement already satisfied: certifi>=2017.4.17 in /usr/local/lib/python3.11/dist-packages (from requests<3.0,>=2.31->fastembed==0.6.1) (2025.6.15)\n",
            "Requirement already satisfied: humanfriendly>=9.1 in /usr/local/lib/python3.11/dist-packages (from coloredlogs->onnxruntime!=1.20.0,>=1.17.0->fastembed==0.6.1) (10.0)\n",
            "Requirement already satisfied: mpmath<1.4,>=1.1.0 in /usr/local/lib/python3.11/dist-packages (from sympy->onnxruntime!=1.20.0,>=1.17.0->fastembed==0.6.1) (1.3.0)\n",
            "Requirement already satisfied: ipython in /usr/local/lib/python3.11/dist-packages (7.34.0)\n",
            "Requirement already satisfied: setuptools>=18.5 in /usr/local/lib/python3.11/dist-packages (from ipython) (75.2.0)\n",
            "Requirement already satisfied: jedi>=0.16 in /usr/local/lib/python3.11/dist-packages (from ipython) (0.19.2)\n",
            "Requirement already satisfied: decorator in /usr/local/lib/python3.11/dist-packages (from ipython) (4.4.2)\n",
            "Requirement already satisfied: pickleshare in /usr/local/lib/python3.11/dist-packages (from ipython) (0.7.5)\n",
            "Requirement already satisfied: traitlets>=4.2 in /usr/local/lib/python3.11/dist-packages (from ipython) (5.7.1)\n",
            "Requirement already satisfied: prompt-toolkit!=3.0.0,!=3.0.1,<3.1.0,>=2.0.0 in /usr/local/lib/python3.11/dist-packages (from ipython) (3.0.51)\n",
            "Requirement already satisfied: pygments in /usr/local/lib/python3.11/dist-packages (from ipython) (2.19.2)\n",
            "Requirement already satisfied: backcall in /usr/local/lib/python3.11/dist-packages (from ipython) (0.2.0)\n",
            "Requirement already satisfied: matplotlib-inline in /usr/local/lib/python3.11/dist-packages (from ipython) (0.1.7)\n",
            "Requirement already satisfied: pexpect>4.3 in /usr/local/lib/python3.11/dist-packages (from ipython) (4.9.0)\n",
            "Requirement already satisfied: parso<0.9.0,>=0.8.4 in /usr/local/lib/python3.11/dist-packages (from jedi>=0.16->ipython) (0.8.4)\n",
            "Requirement already satisfied: ptyprocess>=0.5 in /usr/local/lib/python3.11/dist-packages (from pexpect>4.3->ipython) (0.7.0)\n",
            "Requirement already satisfied: wcwidth in /usr/local/lib/python3.11/dist-packages (from prompt-toolkit!=3.0.0,!=3.0.1,<3.1.0,>=2.0.0->ipython) (0.2.13)\n"
          ]
        }
      ]
    },
    {
      "cell_type": "markdown",
      "source": [
        "# Import Libraries"
      ],
      "metadata": {
        "id": "1h5EGjBlXZK4"
      }
    },
    {
      "cell_type": "code",
      "execution_count": 3,
      "metadata": {
        "colab": {
          "base_uri": "https://localhost:8080/"
        },
        "id": "OaOABGAjNyG0",
        "outputId": "08f659b1-7830-4903-b187-98e12f8a8a63"
      },
      "outputs": [
        {
          "output_type": "stream",
          "name": "stderr",
          "text": [
            "/usr/local/lib/python3.11/dist-packages/google/protobuf/runtime_version.py:98: UserWarning: Protobuf gencode version 5.27.2 is exactly one major version older than the runtime version 6.31.1 at v1/aggregate.proto. Please update the gencode to avoid compatibility violations in the next runtime release.\n",
            "  warnings.warn(\n",
            "/usr/local/lib/python3.11/dist-packages/google/protobuf/runtime_version.py:98: UserWarning: Protobuf gencode version 5.27.2 is exactly one major version older than the runtime version 6.31.1 at v1/base.proto. Please update the gencode to avoid compatibility violations in the next runtime release.\n",
            "  warnings.warn(\n",
            "/usr/local/lib/python3.11/dist-packages/google/protobuf/runtime_version.py:98: UserWarning: Protobuf gencode version 5.27.2 is exactly one major version older than the runtime version 6.31.1 at v1/base_search.proto. Please update the gencode to avoid compatibility violations in the next runtime release.\n",
            "  warnings.warn(\n",
            "/usr/local/lib/python3.11/dist-packages/google/protobuf/runtime_version.py:98: UserWarning: Protobuf gencode version 5.27.2 is exactly one major version older than the runtime version 6.31.1 at v1/batch.proto. Please update the gencode to avoid compatibility violations in the next runtime release.\n",
            "  warnings.warn(\n",
            "/usr/local/lib/python3.11/dist-packages/google/protobuf/runtime_version.py:98: UserWarning: Protobuf gencode version 5.27.2 is exactly one major version older than the runtime version 6.31.1 at v1/batch_delete.proto. Please update the gencode to avoid compatibility violations in the next runtime release.\n",
            "  warnings.warn(\n",
            "/usr/local/lib/python3.11/dist-packages/google/protobuf/runtime_version.py:98: UserWarning: Protobuf gencode version 5.27.2 is exactly one major version older than the runtime version 6.31.1 at v1/search_get.proto. Please update the gencode to avoid compatibility violations in the next runtime release.\n",
            "  warnings.warn(\n",
            "/usr/local/lib/python3.11/dist-packages/google/protobuf/runtime_version.py:98: UserWarning: Protobuf gencode version 5.27.2 is exactly one major version older than the runtime version 6.31.1 at v1/generative.proto. Please update the gencode to avoid compatibility violations in the next runtime release.\n",
            "  warnings.warn(\n",
            "/usr/local/lib/python3.11/dist-packages/google/protobuf/runtime_version.py:98: UserWarning: Protobuf gencode version 5.27.2 is exactly one major version older than the runtime version 6.31.1 at v1/properties.proto. Please update the gencode to avoid compatibility violations in the next runtime release.\n",
            "  warnings.warn(\n",
            "/usr/local/lib/python3.11/dist-packages/google/protobuf/runtime_version.py:98: UserWarning: Protobuf gencode version 5.27.2 is exactly one major version older than the runtime version 6.31.1 at v1/tenants.proto. Please update the gencode to avoid compatibility violations in the next runtime release.\n",
            "  warnings.warn(\n"
          ]
        }
      ],
      "source": [
        "import os\n",
        "import json\n",
        "from IPython.display import JSON\n",
        "\n",
        "from fastembed import TextEmbedding\n",
        "\n",
        "import weaviate\n",
        "from weaviate.classes.data import DataObject\n",
        "\n",
        "from helper import suppress_output"
      ]
    },
    {
      "cell_type": "code",
      "source": [
        "# Warning control\n",
        "import warnings\n",
        "warnings.filterwarnings('ignore')"
      ],
      "metadata": {
        "id": "ohh9Zo1cXe1t"
      },
      "execution_count": 4,
      "outputs": []
    },
    {
      "cell_type": "markdown",
      "source": [
        "# Set Variables"
      ],
      "metadata": {
        "id": "7p1oNVvdYXx5"
      }
    },
    {
      "cell_type": "code",
      "source": [
        "COLLECTION_NAME = \"Books\"  # capitalize the first letter of collection names\n",
        "BOOK_DESCRIPTION_FOLDER = \"include/data\"\n",
        "EMBEDDING_MODEL_NAME = \"BAAI/bge-small-en-v1.5\""
      ],
      "metadata": {
        "id": "n_H8MBkcXiIr"
      },
      "execution_count": 5,
      "outputs": []
    },
    {
      "cell_type": "markdown",
      "source": [
        "# Instatiate Embedded Weaviate Client"
      ],
      "metadata": {
        "id": "GDEqutgSYdwL"
      }
    },
    {
      "cell_type": "code",
      "source": [
        "with suppress_output():\n",
        "    client = weaviate.connect_to_embedded(\n",
        "        persistence_data_path= \"tmp/weaviate\",\n",
        "    )\n",
        "print(\"Started new embedded Weaviate instance.\")\n",
        "print(f\"Client is ready: {client.is_ready()}\")"
      ],
      "metadata": {
        "colab": {
          "base_uri": "https://localhost:8080/"
        },
        "id": "twuHqnEvYcLF",
        "outputId": "517b9c5e-f79a-44aa-9a9a-00181ec238ba"
      },
      "execution_count": 6,
      "outputs": [
        {
          "output_type": "stream",
          "name": "stderr",
          "text": [
            "INFO:weaviate-client:Binary /root/.cache/weaviate-embedded did not exist. Downloading binary from https://github.com/weaviate/weaviate/releases/download/v1.26.6/weaviate-v1.26.6-Linux-amd64.tar.gz\n",
            "INFO:weaviate-client:Started /root/.cache/weaviate-embedded: process ID 3202\n"
          ]
        },
        {
          "output_type": "stream",
          "name": "stdout",
          "text": [
            "Started new embedded Weaviate instance.\n",
            "Client is ready: True\n"
          ]
        }
      ]
    },
    {
      "cell_type": "markdown",
      "source": [
        "# Create the Collection\n",
        "We can create books collection inside the Weaviate Instance"
      ],
      "metadata": {
        "id": "Jzn84WaMYmmF"
      }
    },
    {
      "cell_type": "code",
      "source": [
        "existing_collections = client.collections.list_all()\n",
        "existing_collection_names = existing_collections.keys()\n",
        "\n",
        "if COLLECTION_NAME not in existing_collection_names:\n",
        "    print(f\"Collection {COLLECTION_NAME} does not exist yet. Creating it...\")\n",
        "    collection = client.collections.create(name=COLLECTION_NAME)\n",
        "    print(f\"Collection {COLLECTION_NAME} created successfully.\")\n",
        "else:\n",
        "    print(f\"Collection {COLLECTION_NAME} already exists. No action taken.\")\n",
        "    collection = client.collections.get(COLLECTION_NAME)"
      ],
      "metadata": {
        "colab": {
          "base_uri": "https://localhost:8080/"
        },
        "id": "AfrSuaFfYtK5",
        "outputId": "3f1aa38e-e679-40df-cb6a-299f56faeeae"
      },
      "execution_count": 7,
      "outputs": [
        {
          "output_type": "stream",
          "name": "stdout",
          "text": [
            "Collection Books does not exist yet. Creating it...\n",
            "Collection Books created successfully.\n"
          ]
        }
      ]
    },
    {
      "cell_type": "markdown",
      "source": [
        "# Extract Text from Local Files"
      ],
      "metadata": {
        "id": "cR4OgaiiY0_H"
      }
    },
    {
      "cell_type": "code",
      "source": [
        "# list the book description files\n",
        "book_description_files = [\n",
        "    f for f in os.listdir(BOOK_DESCRIPTION_FOLDER)\n",
        "    if f.endswith('.txt')\n",
        "]\n",
        "\n",
        "print(f\"The following files with book descriptions were found: {book_description_files}\")"
      ],
      "metadata": {
        "colab": {
          "base_uri": "https://localhost:8080/"
        },
        "id": "-7qE_5TjY7aw",
        "outputId": "f6e49955-7f0e-4bc5-f20d-27590cb73f44"
      },
      "execution_count": 9,
      "outputs": [
        {
          "output_type": "stream",
          "name": "stdout",
          "text": [
            "The following files with book descriptions were found: ['book_description_0.txt', 'book_description_1.txt']\n"
          ]
        }
      ]
    },
    {
      "cell_type": "markdown",
      "source": [
        "Add your own book recommendations"
      ],
      "metadata": {
        "id": "Oeb8a601az9w"
      }
    },
    {
      "cell_type": "code",
      "source": [
        "# Add your own book description file\n",
        "# Format\n",
        "# [Integer Index] ::: [Book Title] ([Release year]) ::: [Author] ::: [Description]\n",
        "\n",
        "my_book_description = \"\"\"0 ::: The Idea of the World (2019) ::: Bernardo Kastrup ::: An ontological thesis arguing for the primacy of mind over matter.\n",
        "1 ::: Exploring the World of Lucid Dreaming (1990) ::: Stephen LaBerge ::: A practical guide to learning and enjoying lucid dreams.\n",
        "\"\"\"\n",
        "\n",
        "# Write to file\n",
        "with open(f\"{BOOK_DESCRIPTION_FOLDER}/my_book_descriptions.txt\", 'w') as f:\n",
        "    f.write(my_book_description)"
      ],
      "metadata": {
        "id": "Ta0kyJR_ayjG"
      },
      "execution_count": 10,
      "outputs": []
    },
    {
      "cell_type": "markdown",
      "source": [
        "Extract the Title, Author and Description"
      ],
      "metadata": {
        "id": "DfdPAQjAayDP"
      }
    },
    {
      "cell_type": "code",
      "source": [
        "book_description_files = [\n",
        "    f for f in os.listdir(BOOK_DESCRIPTION_FOLDER)\n",
        "    if f.endswith('.txt')\n",
        "]\n",
        "\n",
        "list_of_book_data = []\n",
        "\n",
        "for book_description_file in book_description_files:\n",
        "    with open(\n",
        "        os.path.join(BOOK_DESCRIPTION_FOLDER, book_description_file), \"r\"\n",
        "    ) as f:\n",
        "        book_descriptions = f.readlines()\n",
        "\n",
        "    titles = [\n",
        "        book_description.split(\":::\")[1].strip()\n",
        "        for book_description in book_descriptions\n",
        "    ]\n",
        "    authors = [\n",
        "        book_description.split(\":::\")[2].strip()\n",
        "        for book_description in book_descriptions\n",
        "    ]\n",
        "    book_description_text = [\n",
        "        book_description.split(\":::\")[3].strip()\n",
        "        for book_description in book_descriptions\n",
        "    ]\n",
        "\n",
        "    book_descriptions = [\n",
        "        {\n",
        "            \"title\": title,\n",
        "            \"author\": author,\n",
        "            \"description\": description,\n",
        "        }\n",
        "        for title, author, description in zip(\n",
        "            titles, authors, book_description_text\n",
        "        )\n",
        "    ]\n",
        "\n",
        "    list_of_book_data.append(book_descriptions)"
      ],
      "metadata": {
        "id": "j7VraSPZbFjS"
      },
      "execution_count": 11,
      "outputs": []
    },
    {
      "cell_type": "code",
      "source": [
        "JSON(json.dumps(list_of_book_data))"
      ],
      "metadata": {
        "colab": {
          "base_uri": "https://localhost:8080/",
          "height": 1000
        },
        "id": "4n8mhuE-bK-i",
        "outputId": "688cc7dd-06b0-4a1e-e20b-fc861c5d83ca"
      },
      "execution_count": 12,
      "outputs": [
        {
          "output_type": "execute_result",
          "data": {
            "text/plain": [
              "<IPython.core.display.JSON object>"
            ],
            "application/json": [
              [
                {
                  "title": "The Idea of the World (2019)",
                  "author": "Bernardo Kastrup",
                  "description": "An ontological thesis arguing for the primacy of mind over matter."
                },
                {
                  "title": "Exploring the World of Lucid Dreaming (1990)",
                  "author": "Stephen LaBerge",
                  "description": "A practical guide to learning and enjoying lucid dreams."
                }
              ],
              [
                {
                  "title": "The Idea of the World (2019)",
                  "author": "Bernardo Kastrup",
                  "description": "A rigorous case for the primacy of mind in nature, from philosophy to neuroscience, psychology and physics. The Idea of the World offers a grounded alternative to the frenzy of unrestrained abstractions and unexamined assumptions in philosophy and science today. This book examines what can be learned about the nature of reality based on conceptual parsimony, straightforward logic and empirical evidence from fields as diverse as physics and neuroscience. It compiles an overarching case for idealism - the notion that reality is essentially mental - from ten original articles the author has previously published in leading academic journals. The case begins with an exposition of the logical fallacies and internal contradictions of the reigning physicalist ontology and its popular alternatives, such as bottom-up panpsychism. It then advances a compelling formulation of idealism that elegantly makes sense of - and reconciles - classical and quantum worlds. The main objections to idealism are systematically refuted and empirical evidence is reviewed that corroborates the formulation presented here. The book closes with an analysis of the hidden psychological motivations behind mainstream physicalism and the implications of idealism for the way we relate to the world."
                },
                {
                  "title": "Steppenwolf (1927)",
                  "author": "Hermann Hesse",
                  "description": "Steppenwolf is a poetical self-portrait of a man who felt himself to be half-human and half-wolf. This Faust-like and magical story is evidence of Hesse's searching philosophy and extraordinary sense of humanity as he tells of the humanization of a middle-aged misanthrope. Yet his novel can also be seen as a plea for rigorous self-examination and an indictment of the intellectual hypocrisy of the period. As Hesse himself remarked, \"Of all my books Steppenwolf is the one that was more often and more violently misunderstood than any of the others\"."
                },
                {
                  "title": "Malina (1971)",
                  "author": "Ingeborg Bachmann",
                  "description": "Bachmann tells the story of lives painfully intertwined: the unnamed narrator, haunted by nightmarish memories of her father, lives with the androgynous Malina, an initially remote and dispassionate man who ultimately becomes an ominous influence. Plunging toward its riveting finale, Malina brutally lays bare the struggle for love."
                },
                {
                  "title": "Prometheus Rising (1983)",
                  "author": "Robert Anton Wilson",
                  "description": "Imagine trying to make sense of an amalgam of Timothy Leary's eight neurological circuits, G.I. Gurdjieff's self-observation exercises, Alfred Korzybskis general semantics, Aleister Crowley's magical theorems, and the several disciplines of Yoga; not to mention Christian Science, relativity, quantum mechanics, and many other approaches to understanding the world around us! That is exactly what Robert Anton Wilson does in Prometheus Rising. In short, this is a book about how the human mind works and what you can do to make the most of yours."
                }
              ],
              [
                {
                  "title": "The Master and His Emissary (2009)",
                  "author": "Iain McGilchrist",
                  "description": "In a book of unprecedented scope, Iain McGilchrist presents a fascinating exploration of the differences between the brain’s left and right hemispheres, and how those differences have affected society, history, and culture. McGilchrist draws on a vast body of recent research in neuroscience and psychology to reveal that the difference is profound: the left hemisphere is detail oriented, while the right has greater breadth, flexibility, and generosity. McGilchrist then takes the reader on a journey through the history of Western culture, illustrating the tension between these two worlds as revealed in the thought and belief of thinkers and artists from Aeschylus to Magritte."
                },
                {
                  "title": "The Gunslinger (1982)",
                  "author": "Stephen King",
                  "description": "In the first book of this series, Stephen King introduces readers to one of his most enigmatic heroes, Roland of Gilead, The Last Gunslinger. He is a haunting figure, a loner on a spellbinding journey into good and evil. In his desolate world, which frighteningly mirrors our own, Roland pursues The Man in Black, encounters an alluring woman named Alice, and begins a friendship with the Kid from Earth called Jake. Both grippingly realistic and eerily dreamlike, The Gunslinger leaves readers eagerly awaiting the next chapter."
                },
                {
                  "title": "The Metamorphosis (1915)",
                  "author": "Franz Kafka",
                  "description": "\"As Gregor Samsa awoke one morning from uneasy dreams he found himself transformed in his bed into a gigantic insect. He was laying on his hard, as it were armor-plated, back and when he lifted his head a little he could see his domelike brown belly divided into stiff arched segments on top of which the bed quilt could hardly keep in position and was about to slide off completely. His numerous legs, which were pitifully thin compared to the rest of his bulk, waved helplessly before his eyes.\" With it's startling, bizarre, yet surprisingly funny first opening, Kafka begins his masterpiece, The Metamorphosis. It is the story of a young man who, transformed overnight into a giant beetle-like insect, becomes an object of disgrace to his family, an outsider in his own home, a quintessentially alienated man. A harrowing—though absurdly comic—meditation on human feelings of inadequacy, guilt, and isolation, The Metamorphosis has taken its place as one of the most widely read and influential works of twentieth-century fiction. As W.H. Auden wrote, \"Kafka is important to us because his predicament is the predicament of modern man.\""
                }
              ]
            ]
          },
          "metadata": {
            "application/json": {
              "expanded": false,
              "root": "root"
            }
          },
          "execution_count": 12
        }
      ]
    },
    {
      "cell_type": "markdown",
      "source": [
        "# Create Vector Embeddings for the descriptions"
      ],
      "metadata": {
        "id": "gI73N9ptbKnG"
      }
    },
    {
      "cell_type": "code",
      "source": [
        "embedding_model = TextEmbedding(EMBEDDING_MODEL_NAME)\n",
        "\n",
        "list_of_description_embeddings = []\n",
        "\n",
        "for book_data in list_of_book_data:\n",
        "    book_descriptions = [book[\"description\"] for book in book_data]\n",
        "    description_embeddings = [\n",
        "        list(embedding_model.embed([desc]))[0] for desc in book_descriptions\n",
        "    ]\n",
        "\n",
        "    list_of_description_embeddings.append(description_embeddings)"
      ],
      "metadata": {
        "colab": {
          "base_uri": "https://localhost:8080/",
          "height": 209,
          "referenced_widgets": [
            "c1a4e32d933a43d487f904144012a8ff",
            "bf7e31b8f26f4d9aa6025676e4790129",
            "7eda512b1a4742248c969fa3427f6769",
            "e449ecbaff204f2ebf2e60a771bab568",
            "aa197b375abe4a869985fba572ce304f",
            "283cd70e1cfb4dd694ce60ff1f3e3f6c",
            "2abd5b99c0444a888e9cbf4e7f8156cd",
            "8921eed92c02448bba2082a5ced47584",
            "22bc23bf9b28426397b3e06423a7d53c",
            "be2540717db24bf7810ec807e2c18eac",
            "b49b9fb318f541b98d9b65d28a588a07",
            "1e06a9009efc422a9ec7c62a28f39d87",
            "6e311504bf454aec93e3a507e880cf08",
            "29e6b337335143369c1f9e18f0548068",
            "198e6ea1bf764d9183f2862f2b41e3b8",
            "e621407c54e14fdcaea1e2263c7dc05a",
            "83e10908d8e04558886c81af2057dfa0",
            "c566b94eb0af48299f258181aae140d6",
            "fe42e96be4214753a6aa752f2b6d979f",
            "c5bade9cf3144a488bd8da1d4b612b53",
            "3f156432408d466fb04e5c24a92f61ca",
            "b67d6fbcdeb54a3d9852cbd6256f6959",
            "3494689ab5094bb7a592a44abaa23603",
            "ad04d4d87c794329aaa3ab85993f0eef",
            "7647bd46442d43f3ba57164d82c75b5e",
            "f017d16477124aa4bf25ff9ca017611f",
            "26c26535ba10429b962717ef264248e7",
            "0b9702fc7f584fe9b97167489dea929a",
            "8241dc8c7e804022a04c22ae80ac7ce6",
            "928845671cc74240919ef7e4841ddefd",
            "da46e3f73f1d476fbc366ec3aa839cb0",
            "ab0e09e05a404356998765e602ddc87f",
            "7f619704536c4268b39c61be4470fcc3",
            "8ff52f855fa143ecaeb858f2ad6986e5",
            "b9041fc335564b2b80cf41cda5ddb225",
            "d979fd44b0dd47f1b0b9f9a3ba706de5",
            "be564cb1733048d6b42ee133de3bafb9",
            "3e9851b2c94a49b18b11fdbd571d2f03",
            "1215418b39044ec2b18b3ed584386825",
            "0c5b17a5abe645f2af6eeba1f4197478",
            "f12ae1506c9e4205a459549acfb5650a",
            "fd1166280e604f289f02e5d06392272e",
            "9d31c814c75749b4a087e86adfdd173b",
            "5f20b38926a64c7a91e989266bd7064e",
            "ebad20150e8a4d44b196bbcfb3435f9d",
            "b829a74e1eed42d8890571bdfdc00892",
            "6b55071f82f840a3af9ea02e5f08f36f",
            "8bb9096ec9c943bb9326880fe56e2965",
            "d6d3ce9f30f14617942f09a6896f51d7",
            "042084fd14c94fc499f1544c4cd73074",
            "f052dd072a4c49ffb5ec15563d7e34cc",
            "3786603f66e14ace8dade2d6c279eefd",
            "42484547588341bb9cb26a84cf022f65",
            "70cade92a8b74d2bb833d15bfb73fe5e",
            "fce36eed05524737b9ff68df1d402883",
            "a4f7601022b441cabecd006251f68c9a",
            "15d7ab5775604718961e8bd9587d1ad3",
            "a6d0eef08388454d87f1b10d2451ff30",
            "387789b917754a00a417318c2cc95191",
            "08967f7c59134c3aadce5ade3eb84586",
            "657626bf9f134df781440e29b43fcc2c",
            "27106ac5811b4e88ba1c87ce1e5ee8df",
            "cf0703a702384da288d132b6021cc724",
            "2ffdc4dc830d4aa58f8fe4e683329303",
            "cad361b86b2c4305bacff9594ede5760",
            "6800de8f9ad249ef996bf52f61b87ce5"
          ]
        },
        "id": "djzp_fhvbUM7",
        "outputId": "ea99bb97-53a1-49d0-e8e9-f50fe9ad399f"
      },
      "execution_count": 13,
      "outputs": [
        {
          "output_type": "display_data",
          "data": {
            "text/plain": [
              "Fetching 5 files:   0%|          | 0/5 [00:00<?, ?it/s]"
            ],
            "application/vnd.jupyter.widget-view+json": {
              "version_major": 2,
              "version_minor": 0,
              "model_id": "c1a4e32d933a43d487f904144012a8ff"
            }
          },
          "metadata": {}
        },
        {
          "output_type": "display_data",
          "data": {
            "text/plain": [
              "special_tokens_map.json:   0%|          | 0.00/695 [00:00<?, ?B/s]"
            ],
            "application/vnd.jupyter.widget-view+json": {
              "version_major": 2,
              "version_minor": 0,
              "model_id": "1e06a9009efc422a9ec7c62a28f39d87"
            }
          },
          "metadata": {}
        },
        {
          "output_type": "display_data",
          "data": {
            "text/plain": [
              "tokenizer.json: 0.00B [00:00, ?B/s]"
            ],
            "application/vnd.jupyter.widget-view+json": {
              "version_major": 2,
              "version_minor": 0,
              "model_id": "3494689ab5094bb7a592a44abaa23603"
            }
          },
          "metadata": {}
        },
        {
          "output_type": "display_data",
          "data": {
            "text/plain": [
              "config.json:   0%|          | 0.00/706 [00:00<?, ?B/s]"
            ],
            "application/vnd.jupyter.widget-view+json": {
              "version_major": 2,
              "version_minor": 0,
              "model_id": "8ff52f855fa143ecaeb858f2ad6986e5"
            }
          },
          "metadata": {}
        },
        {
          "output_type": "display_data",
          "data": {
            "text/plain": [
              "tokenizer_config.json: 0.00B [00:00, ?B/s]"
            ],
            "application/vnd.jupyter.widget-view+json": {
              "version_major": 2,
              "version_minor": 0,
              "model_id": "ebad20150e8a4d44b196bbcfb3435f9d"
            }
          },
          "metadata": {}
        },
        {
          "output_type": "display_data",
          "data": {
            "text/plain": [
              "model_optimized.onnx:   0%|          | 0.00/66.5M [00:00<?, ?B/s]"
            ],
            "application/vnd.jupyter.widget-view+json": {
              "version_major": 2,
              "version_minor": 0,
              "model_id": "a4f7601022b441cabecd006251f68c9a"
            }
          },
          "metadata": {}
        }
      ]
    },
    {
      "cell_type": "markdown",
      "source": [
        "# Load Embeddings to Weaviate"
      ],
      "metadata": {
        "id": "nA4rcnyGbIDb"
      }
    },
    {
      "cell_type": "code",
      "source": [
        "for book_data_list, emb_list in zip(list_of_book_data, list_of_description_embeddings):\n",
        "    items = []\n",
        "\n",
        "    for book_data, emb in zip(book_data_list, emb_list):\n",
        "        item = DataObject(\n",
        "            properties={\n",
        "                \"title\": book_data[\"title\"],\n",
        "                \"author\": book_data[\"author\"],\n",
        "                \"description\": book_data[\"description\"],\n",
        "            },\n",
        "            vector=emb\n",
        "        )\n",
        "        items.append(item)\n",
        "\n",
        "    collection.data.insert_many(items)"
      ],
      "metadata": {
        "id": "mUxihwRwbHho"
      },
      "execution_count": 14,
      "outputs": []
    },
    {
      "cell_type": "markdown",
      "source": [
        "# Query for a book recommendation using semantic search"
      ],
      "metadata": {
        "id": "xlotBjF_bHOk"
      }
    },
    {
      "cell_type": "code",
      "source": [
        "query_str = \"A philosophical book\"\n",
        "\n",
        "embedding_model = TextEmbedding(EMBEDDING_MODEL_NAME)\n",
        "collection = client.collections.get(COLLECTION_NAME)\n",
        "\n",
        "query_emb = list(embedding_model.embed([query_str]))[0]\n",
        "\n",
        "results = collection.query.near_vector(\n",
        "    near_vector=query_emb,\n",
        "    limit=1,\n",
        ")\n",
        "for result in results.objects:\n",
        "    print(f\"You should read: {result.properties['title']} by {result.properties['author']}\")\n",
        "    print(\"Description:\")\n",
        "    print(result.properties[\"description\"])"
      ],
      "metadata": {
        "colab": {
          "base_uri": "https://localhost:8080/"
        },
        "id": "KD8EWPFNbzCP",
        "outputId": "b1ee6d77-f208-45cb-a6d5-3cab7a6e8b69"
      },
      "execution_count": 15,
      "outputs": [
        {
          "output_type": "stream",
          "name": "stdout",
          "text": [
            "You should read: The Idea of the World (2019) by Bernardo Kastrup\n",
            "Description:\n",
            "An ontological thesis arguing for the primacy of mind over matter.\n"
          ]
        }
      ]
    },
    {
      "cell_type": "markdown",
      "source": [
        "Optional"
      ],
      "metadata": {
        "id": "tuBESB6lb7Zv"
      }
    },
    {
      "cell_type": "code",
      "source": [
        "# ## Delete a Weaviate instance\n",
        "# ## This cell can take a few seconds to run\n",
        "\n",
        "# import shutil\n",
        "\n",
        "# client.close()\n",
        "\n",
        "# EMBEDDED_WEAVIATE_PERSISTENCE_PATH = \"tmp/weaviate\"\n",
        "\n",
        "# if os.path.exists(EMBEDDED_WEAVIATE_PERSISTENCE_PATH):\n",
        "#     shutil.rmtree(EMBEDDED_WEAVIATE_PERSISTENCE_PATH)\n",
        "#     if not os.path.exists(EMBEDDED_WEAVIATE_PERSISTENCE_PATH):\n",
        "#         print(f\"Verified: '{EMBEDDED_WEAVIATE_PERSISTENCE_PATH}' no longer exists.\")\n",
        "#         print(f\"Weaviate embedded data at '{EMBEDDED_WEAVIATE_PERSISTENCE_PATH}' deleted.\")"
      ],
      "metadata": {
        "id": "XfixB_9Qb8mb"
      },
      "execution_count": null,
      "outputs": []
    }
  ]
}